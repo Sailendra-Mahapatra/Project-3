{
 "cells": [
  {
   "cell_type": "markdown",
   "metadata": {},
   "source": [
    "## Random Forest Feature Importance Analysis"
   ]
  },
  {
   "cell_type": "markdown",
   "metadata": {},
   "source": [
    "#### Create Dependencies\n"
   ]
  },
  {
   "cell_type": "code",
   "execution_count": 8,
   "metadata": {},
   "outputs": [],
   "source": [
    "import pandas as pd\n",
    "import numpy as np\n",
    "import matplotlib.pyplot as plt\n",
    "from sklearn import preprocessing\n",
    "from sklearn.model_selection import train_test_split"
   ]
  },
  {
   "cell_type": "markdown",
   "metadata": {},
   "source": [
    "### Read the CSV File"
   ]
  },
  {
   "cell_type": "code",
   "execution_count": 11,
   "metadata": {},
   "outputs": [
    {
     "data": {
      "text/html": [
       "<div>\n",
       "<style scoped>\n",
       "    .dataframe tbody tr th:only-of-type {\n",
       "        vertical-align: middle;\n",
       "    }\n",
       "\n",
       "    .dataframe tbody tr th {\n",
       "        vertical-align: top;\n",
       "    }\n",
       "\n",
       "    .dataframe thead th {\n",
       "        text-align: right;\n",
       "    }\n",
       "</style>\n",
       "<table border=\"1\" class=\"dataframe\">\n",
       "  <thead>\n",
       "    <tr style=\"text-align: right;\">\n",
       "      <th></th>\n",
       "      <th>DATEPRD</th>\n",
       "      <th>WELL_BORE_CODE</th>\n",
       "      <th>NPD_WELL_BORE_CODE</th>\n",
       "      <th>NPD_WELL_BORE_NAME</th>\n",
       "      <th>NPD_FIELD_CODE</th>\n",
       "      <th>NPD_FIELD_NAME</th>\n",
       "      <th>NPD_FACILITY_CODE</th>\n",
       "      <th>NPD_FACILITY_NAME</th>\n",
       "      <th>ON_STREAM_HRS</th>\n",
       "      <th>AVG_DOWNHOLE_PRESSURE</th>\n",
       "      <th>...</th>\n",
       "      <th>AVG_CHOKE_UOM</th>\n",
       "      <th>AVG_WHP_P</th>\n",
       "      <th>AVG_WHT_P</th>\n",
       "      <th>DP_Choke_Size</th>\n",
       "      <th>BORE_OIL_VOL</th>\n",
       "      <th>BORE_GAS_VOL</th>\n",
       "      <th>BORE_WAT_VOL</th>\n",
       "      <th>BORE_WI_VOL</th>\n",
       "      <th>FLOW_KIND</th>\n",
       "      <th>WELL_TYPE</th>\n",
       "    </tr>\n",
       "  </thead>\n",
       "  <tbody>\n",
       "    <tr>\n",
       "      <th>0</th>\n",
       "      <td>23-Apr-14</td>\n",
       "      <td>NO 15/9-F-1 C</td>\n",
       "      <td>7405</td>\n",
       "      <td>15/9-F-1 C</td>\n",
       "      <td>3420717</td>\n",
       "      <td>VOLVE</td>\n",
       "      <td>369304</td>\n",
       "      <td>MÃRSK INSPIRER</td>\n",
       "      <td>24.0</td>\n",
       "      <td>270.240</td>\n",
       "      <td>...</td>\n",
       "      <td>%</td>\n",
       "      <td>99.187</td>\n",
       "      <td>60.757</td>\n",
       "      <td>70.627</td>\n",
       "      <td>1166</td>\n",
       "      <td>165720</td>\n",
       "      <td>0</td>\n",
       "      <td>NaN</td>\n",
       "      <td>production</td>\n",
       "      <td>OP</td>\n",
       "    </tr>\n",
       "    <tr>\n",
       "      <th>1</th>\n",
       "      <td>24-Apr-14</td>\n",
       "      <td>NO 15/9-F-1 C</td>\n",
       "      <td>7405</td>\n",
       "      <td>15/9-F-1 C</td>\n",
       "      <td>3420717</td>\n",
       "      <td>VOLVE</td>\n",
       "      <td>369304</td>\n",
       "      <td>MÃRSK INSPIRER</td>\n",
       "      <td>24.0</td>\n",
       "      <td>262.843</td>\n",
       "      <td>...</td>\n",
       "      <td>%</td>\n",
       "      <td>94.601</td>\n",
       "      <td>63.047</td>\n",
       "      <td>66.049</td>\n",
       "      <td>1550</td>\n",
       "      <td>221707</td>\n",
       "      <td>0</td>\n",
       "      <td>NaN</td>\n",
       "      <td>production</td>\n",
       "      <td>OP</td>\n",
       "    </tr>\n",
       "    <tr>\n",
       "      <th>2</th>\n",
       "      <td>25-Apr-14</td>\n",
       "      <td>NO 15/9-F-1 C</td>\n",
       "      <td>7405</td>\n",
       "      <td>15/9-F-1 C</td>\n",
       "      <td>3420717</td>\n",
       "      <td>VOLVE</td>\n",
       "      <td>369304</td>\n",
       "      <td>MÃRSK INSPIRER</td>\n",
       "      <td>24.0</td>\n",
       "      <td>255.527</td>\n",
       "      <td>...</td>\n",
       "      <td>%</td>\n",
       "      <td>89.988</td>\n",
       "      <td>64.547</td>\n",
       "      <td>61.405</td>\n",
       "      <td>1249</td>\n",
       "      <td>178064</td>\n",
       "      <td>0</td>\n",
       "      <td>NaN</td>\n",
       "      <td>production</td>\n",
       "      <td>OP</td>\n",
       "    </tr>\n",
       "    <tr>\n",
       "      <th>3</th>\n",
       "      <td>26-Apr-14</td>\n",
       "      <td>NO 15/9-F-1 C</td>\n",
       "      <td>7405</td>\n",
       "      <td>15/9-F-1 C</td>\n",
       "      <td>3420717</td>\n",
       "      <td>VOLVE</td>\n",
       "      <td>369304</td>\n",
       "      <td>MÃRSK INSPIRER</td>\n",
       "      <td>24.0</td>\n",
       "      <td>247.199</td>\n",
       "      <td>...</td>\n",
       "      <td>%</td>\n",
       "      <td>84.777</td>\n",
       "      <td>65.724</td>\n",
       "      <td>56.148</td>\n",
       "      <td>1346</td>\n",
       "      <td>192602</td>\n",
       "      <td>0</td>\n",
       "      <td>NaN</td>\n",
       "      <td>production</td>\n",
       "      <td>OP</td>\n",
       "    </tr>\n",
       "    <tr>\n",
       "      <th>4</th>\n",
       "      <td>27-Apr-14</td>\n",
       "      <td>NO 15/9-F-1 C</td>\n",
       "      <td>7405</td>\n",
       "      <td>15/9-F-1 C</td>\n",
       "      <td>3420717</td>\n",
       "      <td>VOLVE</td>\n",
       "      <td>369304</td>\n",
       "      <td>MÃRSK INSPIRER</td>\n",
       "      <td>24.0</td>\n",
       "      <td>240.736</td>\n",
       "      <td>...</td>\n",
       "      <td>%</td>\n",
       "      <td>80.837</td>\n",
       "      <td>66.934</td>\n",
       "      <td>52.202</td>\n",
       "      <td>1350</td>\n",
       "      <td>194496</td>\n",
       "      <td>0</td>\n",
       "      <td>NaN</td>\n",
       "      <td>production</td>\n",
       "      <td>OP</td>\n",
       "    </tr>\n",
       "  </tbody>\n",
       "</table>\n",
       "<p>5 rows × 24 columns</p>\n",
       "</div>"
      ],
      "text/plain": [
       "     DATEPRD WELL_BORE_CODE  NPD_WELL_BORE_CODE NPD_WELL_BORE_NAME  \\\n",
       "0  23-Apr-14  NO 15/9-F-1 C                7405         15/9-F-1 C   \n",
       "1  24-Apr-14  NO 15/9-F-1 C                7405         15/9-F-1 C   \n",
       "2  25-Apr-14  NO 15/9-F-1 C                7405         15/9-F-1 C   \n",
       "3  26-Apr-14  NO 15/9-F-1 C                7405         15/9-F-1 C   \n",
       "4  27-Apr-14  NO 15/9-F-1 C                7405         15/9-F-1 C   \n",
       "\n",
       "   NPD_FIELD_CODE NPD_FIELD_NAME  NPD_FACILITY_CODE NPD_FACILITY_NAME  \\\n",
       "0         3420717          VOLVE             369304   MÃRSK INSPIRER   \n",
       "1         3420717          VOLVE             369304   MÃRSK INSPIRER   \n",
       "2         3420717          VOLVE             369304   MÃRSK INSPIRER   \n",
       "3         3420717          VOLVE             369304   MÃRSK INSPIRER   \n",
       "4         3420717          VOLVE             369304   MÃRSK INSPIRER   \n",
       "\n",
       "   ON_STREAM_HRS  AVG_DOWNHOLE_PRESSURE  ...  AVG_CHOKE_UOM  AVG_WHP_P  \\\n",
       "0           24.0                270.240  ...              %     99.187   \n",
       "1           24.0                262.843  ...              %     94.601   \n",
       "2           24.0                255.527  ...              %     89.988   \n",
       "3           24.0                247.199  ...              %     84.777   \n",
       "4           24.0                240.736  ...              %     80.837   \n",
       "\n",
       "   AVG_WHT_P  DP_Choke_Size BORE_OIL_VOL  BORE_GAS_VOL   BORE_WAT_VOL  \\\n",
       "0     60.757         70.627         1166        165720              0   \n",
       "1     63.047         66.049         1550        221707              0   \n",
       "2     64.547         61.405         1249        178064              0   \n",
       "3     65.724         56.148         1346        192602              0   \n",
       "4     66.934         52.202         1350        194496              0   \n",
       "\n",
       "   BORE_WI_VOL   FLOW_KIND  WELL_TYPE  \n",
       "0          NaN  production         OP  \n",
       "1          NaN  production         OP  \n",
       "2          NaN  production         OP  \n",
       "3          NaN  production         OP  \n",
       "4          NaN  production         OP  \n",
       "\n",
       "[5 rows x 24 columns]"
      ]
     },
     "execution_count": 11,
     "metadata": {},
     "output_type": "execute_result"
    }
   ],
   "source": [
    "# Read cvs file\n",
    "owell_data = pd.read_csv('../data/Oil-Gas Production data set.csv',encoding = \"ISO-8859-1\")\n",
    "owell_data.head()\n"
   ]
  },
  {
   "cell_type": "markdown",
   "metadata": {},
   "source": [
    "#### Change the Date Format to YYYY-MM-DD"
   ]
  },
  {
   "cell_type": "code",
   "execution_count": 12,
   "metadata": {},
   "outputs": [
    {
     "data": {
      "text/html": [
       "<div>\n",
       "<style scoped>\n",
       "    .dataframe tbody tr th:only-of-type {\n",
       "        vertical-align: middle;\n",
       "    }\n",
       "\n",
       "    .dataframe tbody tr th {\n",
       "        vertical-align: top;\n",
       "    }\n",
       "\n",
       "    .dataframe thead th {\n",
       "        text-align: right;\n",
       "    }\n",
       "</style>\n",
       "<table border=\"1\" class=\"dataframe\">\n",
       "  <thead>\n",
       "    <tr style=\"text-align: right;\">\n",
       "      <th></th>\n",
       "      <th>DATEPRD</th>\n",
       "      <th>WELL_BORE_CODE</th>\n",
       "      <th>NPD_WELL_BORE_CODE</th>\n",
       "      <th>NPD_WELL_BORE_NAME</th>\n",
       "      <th>NPD_FIELD_CODE</th>\n",
       "      <th>NPD_FIELD_NAME</th>\n",
       "      <th>NPD_FACILITY_CODE</th>\n",
       "      <th>NPD_FACILITY_NAME</th>\n",
       "      <th>ON_STREAM_HRS</th>\n",
       "      <th>AVG_DOWNHOLE_PRESSURE</th>\n",
       "      <th>...</th>\n",
       "      <th>AVG_CHOKE_UOM</th>\n",
       "      <th>AVG_WHP_P</th>\n",
       "      <th>AVG_WHT_P</th>\n",
       "      <th>DP_Choke_Size</th>\n",
       "      <th>BORE_OIL_VOL</th>\n",
       "      <th>BORE_GAS_VOL</th>\n",
       "      <th>BORE_WAT_VOL</th>\n",
       "      <th>BORE_WI_VOL</th>\n",
       "      <th>FLOW_KIND</th>\n",
       "      <th>WELL_TYPE</th>\n",
       "    </tr>\n",
       "  </thead>\n",
       "  <tbody>\n",
       "    <tr>\n",
       "      <th>0</th>\n",
       "      <td>2014-04-23</td>\n",
       "      <td>NO 15/9-F-1 C</td>\n",
       "      <td>7405</td>\n",
       "      <td>15/9-F-1 C</td>\n",
       "      <td>3420717</td>\n",
       "      <td>VOLVE</td>\n",
       "      <td>369304</td>\n",
       "      <td>MÃRSK INSPIRER</td>\n",
       "      <td>24.0</td>\n",
       "      <td>270.240</td>\n",
       "      <td>...</td>\n",
       "      <td>%</td>\n",
       "      <td>99.187</td>\n",
       "      <td>60.757</td>\n",
       "      <td>70.627</td>\n",
       "      <td>1166</td>\n",
       "      <td>165720</td>\n",
       "      <td>0</td>\n",
       "      <td>NaN</td>\n",
       "      <td>production</td>\n",
       "      <td>OP</td>\n",
       "    </tr>\n",
       "    <tr>\n",
       "      <th>1</th>\n",
       "      <td>2014-04-24</td>\n",
       "      <td>NO 15/9-F-1 C</td>\n",
       "      <td>7405</td>\n",
       "      <td>15/9-F-1 C</td>\n",
       "      <td>3420717</td>\n",
       "      <td>VOLVE</td>\n",
       "      <td>369304</td>\n",
       "      <td>MÃRSK INSPIRER</td>\n",
       "      <td>24.0</td>\n",
       "      <td>262.843</td>\n",
       "      <td>...</td>\n",
       "      <td>%</td>\n",
       "      <td>94.601</td>\n",
       "      <td>63.047</td>\n",
       "      <td>66.049</td>\n",
       "      <td>1550</td>\n",
       "      <td>221707</td>\n",
       "      <td>0</td>\n",
       "      <td>NaN</td>\n",
       "      <td>production</td>\n",
       "      <td>OP</td>\n",
       "    </tr>\n",
       "    <tr>\n",
       "      <th>2</th>\n",
       "      <td>2014-04-25</td>\n",
       "      <td>NO 15/9-F-1 C</td>\n",
       "      <td>7405</td>\n",
       "      <td>15/9-F-1 C</td>\n",
       "      <td>3420717</td>\n",
       "      <td>VOLVE</td>\n",
       "      <td>369304</td>\n",
       "      <td>MÃRSK INSPIRER</td>\n",
       "      <td>24.0</td>\n",
       "      <td>255.527</td>\n",
       "      <td>...</td>\n",
       "      <td>%</td>\n",
       "      <td>89.988</td>\n",
       "      <td>64.547</td>\n",
       "      <td>61.405</td>\n",
       "      <td>1249</td>\n",
       "      <td>178064</td>\n",
       "      <td>0</td>\n",
       "      <td>NaN</td>\n",
       "      <td>production</td>\n",
       "      <td>OP</td>\n",
       "    </tr>\n",
       "    <tr>\n",
       "      <th>3</th>\n",
       "      <td>2014-04-26</td>\n",
       "      <td>NO 15/9-F-1 C</td>\n",
       "      <td>7405</td>\n",
       "      <td>15/9-F-1 C</td>\n",
       "      <td>3420717</td>\n",
       "      <td>VOLVE</td>\n",
       "      <td>369304</td>\n",
       "      <td>MÃRSK INSPIRER</td>\n",
       "      <td>24.0</td>\n",
       "      <td>247.199</td>\n",
       "      <td>...</td>\n",
       "      <td>%</td>\n",
       "      <td>84.777</td>\n",
       "      <td>65.724</td>\n",
       "      <td>56.148</td>\n",
       "      <td>1346</td>\n",
       "      <td>192602</td>\n",
       "      <td>0</td>\n",
       "      <td>NaN</td>\n",
       "      <td>production</td>\n",
       "      <td>OP</td>\n",
       "    </tr>\n",
       "    <tr>\n",
       "      <th>4</th>\n",
       "      <td>2014-04-27</td>\n",
       "      <td>NO 15/9-F-1 C</td>\n",
       "      <td>7405</td>\n",
       "      <td>15/9-F-1 C</td>\n",
       "      <td>3420717</td>\n",
       "      <td>VOLVE</td>\n",
       "      <td>369304</td>\n",
       "      <td>MÃRSK INSPIRER</td>\n",
       "      <td>24.0</td>\n",
       "      <td>240.736</td>\n",
       "      <td>...</td>\n",
       "      <td>%</td>\n",
       "      <td>80.837</td>\n",
       "      <td>66.934</td>\n",
       "      <td>52.202</td>\n",
       "      <td>1350</td>\n",
       "      <td>194496</td>\n",
       "      <td>0</td>\n",
       "      <td>NaN</td>\n",
       "      <td>production</td>\n",
       "      <td>OP</td>\n",
       "    </tr>\n",
       "  </tbody>\n",
       "</table>\n",
       "<p>5 rows × 24 columns</p>\n",
       "</div>"
      ],
      "text/plain": [
       "     DATEPRD WELL_BORE_CODE  NPD_WELL_BORE_CODE NPD_WELL_BORE_NAME  \\\n",
       "0 2014-04-23  NO 15/9-F-1 C                7405         15/9-F-1 C   \n",
       "1 2014-04-24  NO 15/9-F-1 C                7405         15/9-F-1 C   \n",
       "2 2014-04-25  NO 15/9-F-1 C                7405         15/9-F-1 C   \n",
       "3 2014-04-26  NO 15/9-F-1 C                7405         15/9-F-1 C   \n",
       "4 2014-04-27  NO 15/9-F-1 C                7405         15/9-F-1 C   \n",
       "\n",
       "   NPD_FIELD_CODE NPD_FIELD_NAME  NPD_FACILITY_CODE NPD_FACILITY_NAME  \\\n",
       "0         3420717          VOLVE             369304   MÃRSK INSPIRER   \n",
       "1         3420717          VOLVE             369304   MÃRSK INSPIRER   \n",
       "2         3420717          VOLVE             369304   MÃRSK INSPIRER   \n",
       "3         3420717          VOLVE             369304   MÃRSK INSPIRER   \n",
       "4         3420717          VOLVE             369304   MÃRSK INSPIRER   \n",
       "\n",
       "   ON_STREAM_HRS  AVG_DOWNHOLE_PRESSURE  ...  AVG_CHOKE_UOM  AVG_WHP_P  \\\n",
       "0           24.0                270.240  ...              %     99.187   \n",
       "1           24.0                262.843  ...              %     94.601   \n",
       "2           24.0                255.527  ...              %     89.988   \n",
       "3           24.0                247.199  ...              %     84.777   \n",
       "4           24.0                240.736  ...              %     80.837   \n",
       "\n",
       "   AVG_WHT_P  DP_Choke_Size BORE_OIL_VOL  BORE_GAS_VOL   BORE_WAT_VOL  \\\n",
       "0     60.757         70.627         1166        165720              0   \n",
       "1     63.047         66.049         1550        221707              0   \n",
       "2     64.547         61.405         1249        178064              0   \n",
       "3     65.724         56.148         1346        192602              0   \n",
       "4     66.934         52.202         1350        194496              0   \n",
       "\n",
       "   BORE_WI_VOL   FLOW_KIND  WELL_TYPE  \n",
       "0          NaN  production         OP  \n",
       "1          NaN  production         OP  \n",
       "2          NaN  production         OP  \n",
       "3          NaN  production         OP  \n",
       "4          NaN  production         OP  \n",
       "\n",
       "[5 rows x 24 columns]"
      ]
     },
     "execution_count": 12,
     "metadata": {},
     "output_type": "execute_result"
    }
   ],
   "source": [
    "owell_data['DATEPRD'] = pd.to_datetime(owell_data['DATEPRD'],errors='coerce')\n",
    "owell_data.head()\n"
   ]
  },
  {
   "cell_type": "markdown",
   "metadata": {},
   "source": [
    "#### Create Target Data"
   ]
  },
  {
   "cell_type": "code",
   "execution_count": 14,
   "metadata": {},
   "outputs": [
    {
     "data": {
      "text/plain": [
       "array([[1166],\n",
       "       [1550],\n",
       "       [1249],\n",
       "       ...,\n",
       "       [ 377],\n",
       "       [ 377],\n",
       "       [ 327]])"
      ]
     },
     "execution_count": 14,
     "metadata": {},
     "output_type": "execute_result"
    }
   ],
   "source": [
    "target_oil = owell_data['BORE_OIL_VOL'].values.reshape(-1,1)\n",
    "target_gas = owell_data['BORE_GAS_VOL']\n",
    "target_water = owell_data['BORE_WAT_VOL']\n",
    "target_oil\n"
   ]
  },
  {
   "cell_type": "markdown",
   "metadata": {},
   "source": [
    "#### Create Input Data"
   ]
  },
  {
   "cell_type": "code",
   "execution_count": 15,
   "metadata": {},
   "outputs": [
    {
     "data": {
      "text/html": [
       "<div>\n",
       "<style scoped>\n",
       "    .dataframe tbody tr th:only-of-type {\n",
       "        vertical-align: middle;\n",
       "    }\n",
       "\n",
       "    .dataframe tbody tr th {\n",
       "        vertical-align: top;\n",
       "    }\n",
       "\n",
       "    .dataframe thead th {\n",
       "        text-align: right;\n",
       "    }\n",
       "</style>\n",
       "<table border=\"1\" class=\"dataframe\">\n",
       "  <thead>\n",
       "    <tr style=\"text-align: right;\">\n",
       "      <th></th>\n",
       "      <th>AVG_WHT_P</th>\n",
       "      <th>AVG_WHP_P</th>\n",
       "      <th>DP_Choke_Size</th>\n",
       "      <th>AVG_DOWNHOLE_PRESSURE</th>\n",
       "      <th>AVG_DOWNHOLE_TEMPERATURE</th>\n",
       "    </tr>\n",
       "  </thead>\n",
       "  <tbody>\n",
       "    <tr>\n",
       "      <th>0</th>\n",
       "      <td>60.757</td>\n",
       "      <td>99.187</td>\n",
       "      <td>70.627</td>\n",
       "      <td>270.240</td>\n",
       "      <td>107.644</td>\n",
       "    </tr>\n",
       "    <tr>\n",
       "      <th>1</th>\n",
       "      <td>63.047</td>\n",
       "      <td>94.601</td>\n",
       "      <td>66.049</td>\n",
       "      <td>262.843</td>\n",
       "      <td>107.869</td>\n",
       "    </tr>\n",
       "    <tr>\n",
       "      <th>2</th>\n",
       "      <td>64.547</td>\n",
       "      <td>89.988</td>\n",
       "      <td>61.405</td>\n",
       "      <td>255.527</td>\n",
       "      <td>107.971</td>\n",
       "    </tr>\n",
       "    <tr>\n",
       "      <th>3</th>\n",
       "      <td>65.724</td>\n",
       "      <td>84.777</td>\n",
       "      <td>56.148</td>\n",
       "      <td>247.199</td>\n",
       "      <td>108.052</td>\n",
       "    </tr>\n",
       "    <tr>\n",
       "      <th>4</th>\n",
       "      <td>66.934</td>\n",
       "      <td>80.837</td>\n",
       "      <td>52.202</td>\n",
       "      <td>240.736</td>\n",
       "      <td>108.054</td>\n",
       "    </tr>\n",
       "  </tbody>\n",
       "</table>\n",
       "</div>"
      ],
      "text/plain": [
       "   AVG_WHT_P  AVG_WHP_P  DP_Choke_Size  AVG_DOWNHOLE_PRESSURE  \\\n",
       "0     60.757     99.187         70.627                270.240   \n",
       "1     63.047     94.601         66.049                262.843   \n",
       "2     64.547     89.988         61.405                255.527   \n",
       "3     65.724     84.777         56.148                247.199   \n",
       "4     66.934     80.837         52.202                240.736   \n",
       "\n",
       "   AVG_DOWNHOLE_TEMPERATURE  \n",
       "0                   107.644  \n",
       "1                   107.869  \n",
       "2                   107.971  \n",
       "3                   108.052  \n",
       "4                   108.054  "
      ]
     },
     "execution_count": 15,
     "metadata": {},
     "output_type": "execute_result"
    }
   ],
   "source": [
    "input_data = owell_data[['AVG_WHT_P','AVG_WHP_P','DP_Choke_Size','AVG_DOWNHOLE_PRESSURE',\n",
    "       'AVG_DOWNHOLE_TEMPERATURE']]\n",
    "input_data = input_data.fillna(0)\n",
    "input_data.head()\n"
   ]
  },
  {
   "cell_type": "code",
   "execution_count": 16,
   "metadata": {},
   "outputs": [
    {
     "data": {
      "text/plain": [
       "array([[60.757],\n",
       "       [63.047],\n",
       "       [64.547],\n",
       "       ...,\n",
       "       [56.249],\n",
       "       [57.884],\n",
       "       [55.872]])"
      ]
     },
     "execution_count": 16,
     "metadata": {},
     "output_type": "execute_result"
    }
   ],
   "source": [
    "X_WHT = input_data['AVG_WHT_P'].values.reshape(-1,1)\n",
    "X_WHT"
   ]
  },
  {
   "cell_type": "markdown",
   "metadata": {},
   "source": [
    "#### Split the Data between Test and Train Data"
   ]
  },
  {
   "cell_type": "code",
   "execution_count": 17,
   "metadata": {},
   "outputs": [],
   "source": [
    "X_train, X_test, y_train, y_test = train_test_split(input_data, target_oil, test_size=0.20, random_state=42)\n",
    "\n",
    "#X_train"
   ]
  },
  {
   "cell_type": "code",
   "execution_count": 18,
   "metadata": {},
   "outputs": [
    {
     "data": {
      "text/plain": [
       "array([[1054],\n",
       "       [2531],\n",
       "       [2657],\n",
       "       ...,\n",
       "       [1097],\n",
       "       [ 317],\n",
       "       [ 227]])"
      ]
     },
     "execution_count": 18,
     "metadata": {},
     "output_type": "execute_result"
    }
   ],
   "source": [
    "(y_train)"
   ]
  },
  {
   "cell_type": "markdown",
   "metadata": {},
   "source": [
    "#### Declare Dependencies for Random Forest Optimization"
   ]
  },
  {
   "cell_type": "code",
   "execution_count": 23,
   "metadata": {},
   "outputs": [],
   "source": [
    "from sklearn import tree\n",
    "from sklearn.ensemble import RandomForestClassifier\n",
    "from sklearn.preprocessing import StandardScaler,LabelEncoder\n"
   ]
  },
  {
   "cell_type": "markdown",
   "metadata": {},
   "source": [
    "#### Fit RandomForestClassifier to training set and score with test"
   ]
  },
  {
   "cell_type": "code",
   "execution_count": 24,
   "metadata": {},
   "outputs": [
    {
     "name": "stderr",
     "output_type": "stream",
     "text": [
      "/anaconda3/lib/python3.6/site-packages/sklearn/ensemble/forest.py:246: FutureWarning: The default value of n_estimators will change from 10 in version 0.20 to 100 in 0.22.\n",
      "  \"10 in version 0.20 to 100 in 0.22.\", FutureWarning)\n",
      "/anaconda3/lib/python3.6/site-packages/ipykernel_launcher.py:2: DataConversionWarning: A column-vector y was passed when a 1d array was expected. Please change the shape of y to (n_samples,), for example using ravel().\n",
      "  \n"
     ]
    }
   ],
   "source": [
    "rf = RandomForestClassifier(random_state=42)\n",
    "rf = rf.fit(X_train, y_train)\n"
   ]
  },
  {
   "cell_type": "markdown",
   "metadata": {},
   "source": [
    "#### Score the RandomForest Classifier using the Test Data"
   ]
  },
  {
   "cell_type": "code",
   "execution_count": 25,
   "metadata": {},
   "outputs": [
    {
     "data": {
      "text/plain": [
       "0.9799874921826142"
      ]
     },
     "execution_count": 25,
     "metadata": {},
     "output_type": "execute_result"
    }
   ],
   "source": [
    "rf.score(X_train, y_train)\n",
    "\n"
   ]
  },
  {
   "cell_type": "code",
   "execution_count": 26,
   "metadata": {},
   "outputs": [
    {
     "data": {
      "text/plain": [
       "0.035625"
      ]
     },
     "execution_count": 26,
     "metadata": {},
     "output_type": "execute_result"
    }
   ],
   "source": [
    "rf.score(X_test,y_test)\n"
   ]
  },
  {
   "cell_type": "markdown",
   "metadata": {},
   "source": [
    "#### Score the RandomForest Classifier using the Test Data"
   ]
  },
  {
   "cell_type": "code",
   "execution_count": 27,
   "metadata": {},
   "outputs": [
    {
     "data": {
      "text/plain": [
       "[(0.23280831070950958, 'AVG_WHT_P'),\n",
       " (0.2327085082029144, 'DP_Choke_Size'),\n",
       " (0.23028921068902464, 'AVG_WHP_P'),\n",
       " (0.15464055119093859, 'AVG_DOWNHOLE_PRESSURE'),\n",
       " (0.14955341920761295, 'AVG_DOWNHOLE_TEMPERATURE')]"
      ]
     },
     "execution_count": 27,
     "metadata": {},
     "output_type": "execute_result"
    }
   ],
   "source": [
    "features = input_data.columns\n",
    "sorted(zip(rf.feature_importances_, features), reverse=True)"
   ]
  },
  {
   "cell_type": "code",
   "execution_count": 28,
   "metadata": {},
   "outputs": [
    {
     "name": "stdout",
     "output_type": "stream",
     "text": [
      "5\n"
     ]
    }
   ],
   "source": [
    "names_index = ['AVG_WHT_P','AVG_WHP_P','DP_Choke_Size','AVG_DOWNHOLE_PRESSURE',\n",
    "       'AVG_DOWNHOLE_TEMPERATURE']\n",
    "\n",
    "print(len(names_index))"
   ]
  },
  {
   "cell_type": "code",
   "execution_count": 29,
   "metadata": {},
   "outputs": [],
   "source": [
    "\n",
    "importances_rf = rf.feature_importances_\n",
    "indices_rf = np.argsort(importances_rf)[::-1]"
   ]
  },
  {
   "cell_type": "code",
   "execution_count": null,
   "metadata": {},
   "outputs": [],
   "source": []
  },
  {
   "cell_type": "code",
   "execution_count": 30,
   "metadata": {},
   "outputs": [],
   "source": [
    "def variable_importance(importance, indices):\n",
    "    \n",
    "    print(\"Feature ranking:\")\n",
    "\n",
    "    for f in range(len(names_index)):\n",
    "        i = f\n",
    "        print(\"%d. The feature '%s' has a Mean Decrease in Gini of %f\" % (f + 1,names_index[indices[i]],\n",
    "                                         importance[indices[f]]))"
   ]
  },
  {
   "cell_type": "code",
   "execution_count": 31,
   "metadata": {},
   "outputs": [
    {
     "name": "stdout",
     "output_type": "stream",
     "text": [
      "Feature ranking:\n",
      "1. The feature 'AVG_WHT_P' has a Mean Decrease in Gini of 0.232808\n",
      "2. The feature 'DP_Choke_Size' has a Mean Decrease in Gini of 0.232709\n",
      "3. The feature 'AVG_WHP_P' has a Mean Decrease in Gini of 0.230289\n",
      "4. The feature 'AVG_DOWNHOLE_PRESSURE' has a Mean Decrease in Gini of 0.154641\n",
      "5. The feature 'AVG_DOWNHOLE_TEMPERATURE' has a Mean Decrease in Gini of 0.149553\n"
     ]
    }
   ],
   "source": [
    "\n",
    "variable_importance(importances_rf, indices_rf)"
   ]
  },
  {
   "cell_type": "code",
   "execution_count": 32,
   "metadata": {},
   "outputs": [],
   "source": [
    "def variable_importance_plot(importance, indices):\n",
    "    index = np.arange(len(names_index))\n",
    "\n",
    "    importance_desc = sorted(importance)\n",
    "    feature_space = []\n",
    "    for i in range(4, -1, -1):\n",
    "        feature_space.append(names_index[indices[i]])\n",
    "\n",
    "    fig, ax = plt.subplots(figsize=(10, 8))\n",
    "\n",
    "    #ax.set_axis_bgcolor('#fafafa')\n",
    "    plt.title('Feature importances for Random Forest Model\\\n",
    "    \\nVolve Oil Field Production')\n",
    "    plt.barh(index,\n",
    "         importance_desc,\n",
    "         align=\"center\",\n",
    "         color = '#875FDB')\n",
    "    plt.yticks(index,\n",
    "           feature_space)\n",
    "\n",
    "    plt.ylim(-1, 5)\n",
    "    plt.xlim(0, max(importance_desc)+0.05)\n",
    "    plt.xlabel('Mean Decrease in Gini')\n",
    "    plt.ylabel('Features')\n",
    "    plt.savefig('RandomForest_FeatureImportance')\n",
    "    plt.show()\n",
    "    plt.close()\n"
   ]
  },
  {
   "cell_type": "code",
   "execution_count": 33,
   "metadata": {},
   "outputs": [
    {
     "data": {
      "image/png": "[encoded data removed]",
      "text/plain": [
       "<Figure size 720x576 with 1 Axes>"
      ]
     },
     "metadata": {
      "needs_background": "light"
     },
     "output_type": "display_data"
    }
   ],
   "source": [
    "variable_importance_plot(importances_rf, indices_rf)"
   ]
  },
  {
   "cell_type": "code",
   "execution_count": null,
   "metadata": {},
   "outputs": [],
   "source": []
  },
  {
   "cell_type": "code",
   "execution_count": null,
   "metadata": {},
   "outputs": [],
   "source": []
  }
 ],
 "metadata": {
  "kernelspec": {
   "display_name": "Python 3",
   "language": "python",
   "name": "python3"
  },
  "language_info": {
   "codemirror_mode": {
    "name": "ipython",
    "version": 3
   },
   "file_extension": ".py",
   "mimetype": "text/x-python",
   "name": "python",
   "nbconvert_exporter": "python",
   "pygments_lexer": "ipython3",
   "version": "3.6.8"
  }
 },
 "nbformat": 4,
 "nbformat_minor": 2
}
